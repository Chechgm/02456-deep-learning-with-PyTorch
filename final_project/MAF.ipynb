{
 "cells": [
  {
   "cell_type": "code",
   "execution_count": 1,
   "metadata": {},
   "outputs": [],
   "source": [
    "#### General modules\n",
    "import os\n",
    "\n",
    "# Model modules\n",
    "import datetime as dt\n",
    "import matplotlib.pyplot as plt # Graphics\n",
    "import numpy as np # Scientific computation\n",
    "import pandas as pd # Database management\n",
    "\n",
    "# Torch (estimation) essentials\n",
    "import torch\n",
    "from torch import nn\n",
    "import torch.nn.functional as F\n",
    "import torch.optim as optim\n",
    "import torch.utils.data\n",
    "\n",
    "torch.manual_seed(42)\n",
    "np.random.seed(42)"
   ]
  },
  {
   "cell_type": "code",
   "execution_count": 2,
   "metadata": {},
   "outputs": [
    {
     "name": "stdout",
     "output_type": "stream",
     "text": [
      "/home/chechgm/Courses/02456-deep-learning-with-PyTorch/Final_project\n"
     ]
    }
   ],
   "source": [
    "os.chdir('/home/chechgm/Courses/02456-deep-learning-with-PyTorch/Final_project')\n",
    "print(os.getcwd())"
   ]
  },
  {
   "cell_type": "code",
   "execution_count": 3,
   "metadata": {},
   "outputs": [
    {
     "data": {
      "text/plain": [
       "(329793, 10)"
      ]
     },
     "execution_count": 3,
     "metadata": {},
     "output_type": "execute_result"
    }
   ],
   "source": [
    "crimen = pd.read_csv('./data/CrimenBogota.txt', sep=' ')\n",
    "crimen.shape"
   ]
  },
  {
   "cell_type": "code",
   "execution_count": 4,
   "metadata": {},
   "outputs": [],
   "source": [
    "# Set convenient names of columns\n",
    "crimen.columns = ['latitud', 'longitud', 'hour', 'minute', 'second', 'day', 'month', 'year', 'day_of_week', 'type']\n",
    "# Create a date variable\n",
    "crimen['complete_date'] = pd.to_datetime(crimen[['year', 'month', 'day', 'hour']], format = '%f') \n",
    "# Sort values by date\n",
    "crimen = crimen.sort_values(by=['complete_date'])\n",
    "# Create a variable which corresponds to the particular time during the week\n",
    "crimen['interval'] = (crimen['day_of_week']*24)+(crimen['hour'])"
   ]
  },
  {
   "cell_type": "code",
   "execution_count": 5,
   "metadata": {},
   "outputs": [],
   "source": [
    "def dataset_creator(year, month, day, hour, prediction_periods=4):\n",
    "    prediction_date = dt.datetime(year=year, month=month, day=day, hour=hour)\n",
    "    day_of_week = prediction_date.weekday()\n",
    "    delta_week = dt.timedelta(weeks = 1) \n",
    "    \n",
    "    week_interval = [(day_of_week*24) + hour] \n",
    "    #if week_interval[0]==max(crimen.interval):\n",
    "    #    week_interval += [week_interval[0]-1, min(crimen.interval)]\n",
    "    #elif week_interval[0]==min(crimen.interval):\n",
    "    #    week_interval += [week_interval[0]+1, max(crimen.interval)]\n",
    "    #else:\n",
    "    #    week_interval += [week_interval[0]+1, week_interval[0]-1]\n",
    "    \n",
    "    # All the observations from the same interval\n",
    "    # Include 3 hour interval -1 0 1\n",
    "    # Include same hour for last week\n",
    "    train_set = crimen[((crimen['complete_date']<prediction_date) & (crimen['interval'].isin(week_interval)))] \n",
    "    \n",
    "    prediction_periods = prediction_periods                           # How many weeks in advance we want to do prediction\n",
    "    prediction_dates = [prediction_date]                              # Starting date of prediction\n",
    "    for i in range(prediction_periods):                               # Adding up all the dates\n",
    "        prediction_dates.append(prediction_dates[i]+delta_week)\n",
    "    test_set = crimen[crimen['complete_date'].isin(prediction_dates)] # Subsetting by those dates\n",
    "\n",
    "    #return train_set, test_set # For Exploratory data analysis\n",
    "    print(prediction_date.strftime(\"%A, %d. %B %Y %I:%M%p\"))\n",
    "    return np.array(train_set)[:,:2].astype(np.float32), np.array(test_set)[:,:2].astype(np.float32) # latitud and lognitud"
   ]
  },
  {
   "cell_type": "code",
   "execution_count": 6,
   "metadata": {},
   "outputs": [],
   "source": [
    "def data_preprocess(data):\n",
    "    data_mean = np.mean(data, axis=0)\n",
    "    data_sd = np.std(data, axis=0)\n",
    "    data_normalized = (data-data_mean)/data_sd\n",
    "    \n",
    "    return data_mean, data_sd, data_normalized"
   ]
  },
  {
   "cell_type": "code",
   "execution_count": 7,
   "metadata": {},
   "outputs": [],
   "source": [
    "def data_generator(array, p): # Dataframe and percentage of training data\n",
    "    n_rows = array.shape[0] # Total number of samples\n",
    "    idx = np.random.permutation(n_rows) # Random indices\n",
    "    train_idx, test_idx = idx[:int(n_rows*p)], idx[int(n_rows*p):]\n",
    "    x_train, x_val = array[train_idx,:], array[test_idx,:] # Splitting\n",
    "    \n",
    "    return x_train, x_val#.astype(np.float32)"
   ]
  },
  {
   "cell_type": "code",
   "execution_count": 15,
   "metadata": {},
   "outputs": [
    {
     "name": "stdout",
     "output_type": "stream",
     "text": [
      "Sunday, 03. November 2013 11:00AM\n",
      " Train data shape:(2181, 2) \n",
      " Validation data shape:(243, 2) \n",
      " Test data shape:(16, 2)\n"
     ]
    }
   ],
   "source": [
    "# Sunday, 03. November 2013 11:00PM\n",
    "train_set, data_test = dataset_creator(2013, month=11, day=3, hour=11)          # Create train and test sets\n",
    "mu_train, sigma_train, data_norm = data_preprocess(train_set) # Standarize train set\n",
    "data_train, data_val = data_generator(data_norm, 0.9)          # Split train and validation datasets\n",
    "data_test = (data_test-mu_train)/sigma_train # Standarize test set\n",
    "print(' Train data shape:{} \\n Validation data shape:{} \\n Test data shape:{}'.format(data_train.shape, data_val.shape, data_test.shape))\n",
    "del data_norm # Free some space from the whole normalized dataset"
   ]
  },
  {
   "cell_type": "code",
   "execution_count": 16,
   "metadata": {},
   "outputs": [
    {
     "data": {
      "text/plain": [
       "2424"
      ]
     },
     "execution_count": 16,
     "metadata": {},
     "output_type": "execute_result"
    }
   ],
   "source": [
    "2181+243"
   ]
  },
  {
   "cell_type": "code",
   "execution_count": null,
   "metadata": {},
   "outputs": [],
   "source": [
    "# Dummy data\n",
    "x_lat_1 = 0.15 * np.random.randn(200, 1) + 74\n",
    "x_lon_1 = 0.15 * np.random.randn(200, 1) + 4\n",
    "\n",
    "x_lat_2 = 0.08 * np.random.randn(200, 1) + 74.45\n",
    "x_lon_2 = 0.08 * np.random.randn(200, 1) + 4.45\n",
    "\n",
    "x_lat = np.concatenate((x_lat_1, x_lat_2), axis=0)\n",
    "x_lon = np.concatenate((x_lon_1, x_lon_2), axis=0)\n",
    "\n",
    "x_total = np.concatenate((x_lat, x_lon), axis=1)\n",
    "\n",
    "# Standarization\n",
    "mu, sigma, data_norm = data_preprocess(x_total)\n",
    "data_train, data_test = data_generator(data_norm, 0.7)"
   ]
  },
  {
   "cell_type": "code",
   "execution_count": 9,
   "metadata": {},
   "outputs": [
    {
     "data": {
      "text/plain": [
       "<matplotlib.collections.PathCollection at 0x7fc9557d0080>"
      ]
     },
     "execution_count": 9,
     "metadata": {},
     "output_type": "execute_result"
    },
    {
     "data": {
      "image/png": "[encoded data removed]",
      "text/plain": [
       "<Figure size 720x720 with 1 Axes>"
      ]
     },
     "metadata": {
      "needs_background": "light"
     },
     "output_type": "display_data"
    }
   ],
   "source": [
    "# Plot\n",
    "plt.figure(figsize=(10,10))\n",
    "plt.scatter(data_test[:,0], data_test[:,1], alpha=1, c='r', s=15)\n",
    "plt.scatter(data_val[:,0], data_val[:,1], alpha=1, c='k', s=13)\n",
    "plt.scatter(data_train[:,0], data_train[:,1], alpha=1, s=4)"
   ]
  },
  {
   "cell_type": "code",
   "execution_count": 10,
   "metadata": {},
   "outputs": [],
   "source": [
    "########## DEFINITIONS!!!!!!!!!!!! https://github.com/ikostrikov/pytorch-flows/blob/master/flows.py\n",
    "def get_mask(in_features, out_features, in_flow_features, mask_type=None):\n",
    "    \"\"\"\n",
    "    mask_type: input | None | output\n",
    "    \n",
    "    See Figure 1 for a better illustration:\n",
    "    https://arxiv.org/pdf/1502.03509.pdf\n",
    "    \"\"\"\n",
    "    if mask_type == 'input':\n",
    "        in_degrees = torch.arange(in_features) % in_flow_features\n",
    "    else:\n",
    "        in_degrees = torch.arange(in_features) % (in_flow_features - 1)\n",
    "\n",
    "    if mask_type == 'output':\n",
    "        out_degrees = torch.arange(out_features) % in_flow_features - 1\n",
    "    else:\n",
    "        out_degrees = torch.arange(out_features) % (in_flow_features - 1)\n",
    "\n",
    "    return (out_degrees.unsqueeze(-1) >= in_degrees.unsqueeze(0)).float()\n",
    "\n",
    "\n",
    "class MaskedLinear(nn.Module):\n",
    "    def __init__(self, in_features, out_features, mask, cond_in_features=None, bias=True):\n",
    "        super(MaskedLinear, self).__init__()\n",
    "        self.linear = nn.Linear(in_features, out_features)\n",
    "        if cond_in_features is not None:\n",
    "            self.cond_linear = nn.Linear(cond_in_features, out_features, bias=False)\n",
    "\n",
    "        self.register_buffer('mask', mask)\n",
    "\n",
    "    def forward(self, inputs, cond_inputs=None):\n",
    "        masked_weights = self.linear.weight * self.mask\n",
    "        output = F.linear(inputs, masked_weights, self.linear.bias)\n",
    "        if cond_inputs is not None:\n",
    "            output += self.cond_linear(cond_inputs)\n",
    "        return output\n",
    "\n",
    "\n",
    "nn.MaskedLinear = MaskedLinear\n",
    "\n",
    "\n",
    "class MADE(nn.Module):\n",
    "    \"\"\" An implementation of MADE\n",
    "    (https://arxiv.org/abs/1502.03509s).\n",
    "    \"\"\"\n",
    "\n",
    "    def __init__(self, num_inputs, num_hidden, num_cond_inputs=None, use_tanh=False):\n",
    "        super(MADE, self).__init__()\n",
    "\n",
    "        self.use_tanh = use_tanh\n",
    "\n",
    "        input_mask = get_mask(\n",
    "            num_inputs, num_hidden, num_inputs, mask_type='input')\n",
    "        hidden_mask = get_mask(num_hidden, num_hidden, num_inputs)\n",
    "        output_mask = get_mask(\n",
    "            num_hidden, num_inputs * 2, num_inputs, mask_type='output')\n",
    "\n",
    "        self.joiner = nn.MaskedLinear(num_inputs, num_hidden, input_mask, num_cond_inputs)\n",
    "\n",
    "        self.trunk = nn.Sequential(\n",
    "            nn.ReLU(),\n",
    "            nn.MaskedLinear(num_hidden, num_hidden, hidden_mask),\n",
    "            nn.ReLU(),\n",
    "            nn.MaskedLinear(num_hidden, num_inputs * 2, output_mask))\n",
    "\n",
    "    def forward(self, inputs, cond_inputs=None, mode='direct'):\n",
    "        if mode == 'direct':\n",
    "            h = self.joiner(inputs, cond_inputs)\n",
    "            m, a = self.trunk(h).chunk(2, 1)\n",
    "            if self.use_tanh:\n",
    "                a = torch.tanh(a)\n",
    "            u = (inputs - m) * torch.exp(-a)\n",
    "            return u, -a.sum(-1, keepdim=True)\n",
    "\n",
    "        else:\n",
    "            x = torch.zeros_like(inputs)\n",
    "            for i_col in range(inputs.shape[1]):\n",
    "                h = self.joiner(x, cond_inputs)\n",
    "                m, a = self.trunk(h).chunk(2, 1)\n",
    "                if self.use_tanh:\n",
    "                    a = torch.tanh(a)\n",
    "                x[:, i_col] = inputs[:, i_col] * torch.exp(a[:, i_col]) + m[:, i_col]\n",
    "        return x, -a.sum(-1, keepdim=True)"
   ]
  },
  {
   "cell_type": "code",
   "execution_count": 11,
   "metadata": {},
   "outputs": [],
   "source": [
    "class Reverse(nn.Module):\n",
    "    \"\"\" An implementation of a reversing layer from\n",
    "    Density estimation using Real NVP\n",
    "    (https://arxiv.org/abs/1605.08803).\n",
    "    \"\"\"\n",
    "\n",
    "    def __init__(self, num_inputs):\n",
    "        super(Reverse, self).__init__()\n",
    "        self.perm = np.array(np.arange(0, num_inputs)[::-1])\n",
    "        self.inv_perm = np.argsort(self.perm)\n",
    "\n",
    "    def forward(self, inputs, cond_inputs=None, mode='direct'):\n",
    "        if mode == 'direct':\n",
    "            return inputs[:, self.perm], torch.zeros(\n",
    "                inputs.size(0), 1, device=inputs.device)\n",
    "        else:\n",
    "            return inputs[:, self.inv_perm], torch.zeros(inputs.size(0), 1, device=inputs.device)"
   ]
  },
  {
   "cell_type": "code",
   "execution_count": 12,
   "metadata": {},
   "outputs": [],
   "source": [
    "class BatchNormFlow(nn.Module):\n",
    "    \"\"\" An implementation of a batch normalization layer from\n",
    "    Density estimation using Real NVP\n",
    "    (https://arxiv.org/abs/1605.08803).\n",
    "    \"\"\"\n",
    "\n",
    "    def __init__(self, num_inputs, momentum=0.0, eps=1e-5):\n",
    "        super(BatchNormFlow, self).__init__()\n",
    "\n",
    "        self.log_gamma = nn.Parameter(torch.zeros(num_inputs))\n",
    "        self.beta = nn.Parameter(torch.zeros(num_inputs))\n",
    "        self.momentum = momentum\n",
    "        self.eps = eps\n",
    "\n",
    "        self.register_buffer('running_mean', torch.zeros(num_inputs))\n",
    "        self.register_buffer('running_var', torch.ones(num_inputs))\n",
    "\n",
    "    def forward(self, inputs, cond_inputs=None, mode='direct'):\n",
    "        if mode == 'direct':\n",
    "            if self.training:\n",
    "                self.batch_mean = inputs.mean(0)\n",
    "                self.batch_var = (\n",
    "                    inputs - self.batch_mean).pow(2).mean(0) + self.eps\n",
    "\n",
    "                self.running_mean.mul_(self.momentum)\n",
    "                self.running_var.mul_(self.momentum)\n",
    "\n",
    "                self.running_mean.add_(self.batch_mean.data *\n",
    "                                       (1 - self.momentum))\n",
    "                self.running_var.add_(self.batch_var.data *\n",
    "                                      (1 - self.momentum))\n",
    "\n",
    "                mean = self.batch_mean\n",
    "                var = self.batch_var\n",
    "            else:\n",
    "                mean = self.running_mean\n",
    "                var = self.running_var\n",
    "\n",
    "            x_hat = (inputs - mean) / var.sqrt()\n",
    "            y = torch.exp(self.log_gamma) * x_hat + self.beta\n",
    "            return y, (self.log_gamma - 0.5 * torch.log(var)).sum(\n",
    "                -1, keepdim=True)\n",
    "        else:\n",
    "            if self.training:\n",
    "                mean = self.batch_mean\n",
    "                var = self.batch_var\n",
    "            else:\n",
    "                mean = self.running_mean\n",
    "                var = self.running_var\n",
    "\n",
    "            x_hat = (inputs - self.beta) / torch.exp(self.log_gamma)\n",
    "\n",
    "            y = x_hat * var.sqrt() + mean\n",
    "\n",
    "            return y, (-self.log_gamma + 0.5 * torch.log(var)).sum(-1, keepdim=True)"
   ]
  },
  {
   "cell_type": "code",
   "execution_count": 13,
   "metadata": {},
   "outputs": [],
   "source": [
    "class FlowSequential(nn.Sequential):\n",
    "    \"\"\" A sequential container for flows.\n",
    "    In addition to a forward pass it implements a backward pass and\n",
    "    computes log jacobians.\n",
    "    \"\"\"\n",
    "\n",
    "    def forward(self, inputs, cond_inputs=None, mode='direct', logdets=None):\n",
    "        \"\"\" Performs a forward or backward pass for flow modules.\n",
    "        Args:\n",
    "            inputs: a tuple of inputs and logdets\n",
    "            mode: to run direct computation or inverse\n",
    "        \"\"\"\n",
    "        if logdets is None:\n",
    "            logdets = torch.zeros(inputs.size(0), 1, device=inputs.device)\n",
    "\n",
    "        assert mode in ['direct', 'inverse']\n",
    "        if mode == 'direct':\n",
    "            for module in self._modules.values():\n",
    "                inputs, logdet = module(inputs, cond_inputs, mode)\n",
    "                logdets += logdet\n",
    "        else:\n",
    "            for module in reversed(self._modules.values()):\n",
    "                inputs, logdet = module(inputs, cond_inputs, mode)\n",
    "                logdets += logdet\n",
    "\n",
    "        return inputs, logdets"
   ]
  },
  {
   "cell_type": "code",
   "execution_count": 24,
   "metadata": {},
   "outputs": [],
   "source": [
    "# Hyperparameters\n",
    "# Architecture\n",
    "num_inputs = data_train.shape[1]\n",
    "num_blocks = 3\n",
    "num_hidden = 32\n",
    "\n",
    "# Training\n",
    "epochs       = 3000\n",
    "batch_size   = 132\n",
    "lr           = 0.0001\n",
    "log_interval = 100"
   ]
  },
  {
   "cell_type": "code",
   "execution_count": 25,
   "metadata": {},
   "outputs": [],
   "source": [
    "# Training data\n",
    "train_tensor = torch.from_numpy(data_train)\n",
    "train_dataset = torch.utils.data.TensorDataset(train_tensor)\n",
    "train_loader = torch.utils.data.DataLoader(train_dataset, batch_size=batch_size, shuffle=True)\n",
    "\n",
    "# Validation data\n",
    "valid_tensor = torch.from_numpy(data_val)\n",
    "valid_dataset = torch.utils.data.TensorDataset(valid_tensor)\n",
    "valid_loader = torch.utils.data.DataLoader(valid_dataset, batch_size=batch_size, shuffle=False, drop_last=False)\n",
    "\n",
    "# Test data\n",
    "test_tensor = torch.from_numpy(data_test)\n",
    "test_dataset = torch.utils.data.TensorDataset(test_tensor)\n",
    "test_loader = torch.utils.data.DataLoader(test_dataset, batch_size=batch_size, shuffle=False, drop_last=False)"
   ]
  },
  {
   "cell_type": "code",
   "execution_count": 26,
   "metadata": {},
   "outputs": [],
   "source": [
    "modules = []\n",
    "for _ in range(num_blocks):\n",
    "        modules += [\n",
    "            MADE(num_inputs, num_hidden),\n",
    "            BatchNormFlow(num_inputs),\n",
    "            Reverse(num_inputs)\n",
    "        ]\n",
    "\n",
    "model = FlowSequential(*modules)\n",
    "\n",
    "for module in model.modules():\n",
    "    if isinstance(module, nn.Linear):\n",
    "        nn.init.orthogonal_(module.weight)\n",
    "        module.bias.data.fill_(0)\n",
    "\n",
    "optimizer = optim.Adam(model.parameters(), lr=lr, weight_decay=1e-6)\n",
    "#model.to(device)"
   ]
  },
  {
   "cell_type": "code",
   "execution_count": 27,
   "metadata": {},
   "outputs": [],
   "source": [
    "####### TRAINING!!!!!!!!!!!!!!!!!!!!!!!!!! https://github.com/ikostrikov/pytorch-flows/blob/master/main.py\n",
    "def flow_loss(u, log_jacob, size_average=True):\n",
    "    log_probs = (-0.5 * u.pow(2) - 0.5 * np.log(2 * np.pi)).sum(\n",
    "        -1, keepdim=True)\n",
    "    loss = -(log_probs + log_jacob).sum()\n",
    "    if size_average:\n",
    "        loss /= u.size(0)\n",
    "    return loss\n",
    "\n",
    "\n",
    "def train(epoch):\n",
    "    model.train()\n",
    "    for batch_idx, data in enumerate(train_loader):\n",
    "        if isinstance(data, list):\n",
    "            data = data[0]\n",
    "        #data = data.to(device)\n",
    "        optimizer.zero_grad()\n",
    "        u, log_jacob = model(data)\n",
    "        loss = flow_loss(u, log_jacob)\n",
    "        loss.backward()\n",
    "        optimizer.step()\n",
    "        if epoch % log_interval == 0:\n",
    "            print('Train Epoch: {} [{}/{} ({:.0f}%)]\\tLoss: {:.6f}'.format(\n",
    "                epoch, batch_idx * len(data), len(train_loader.dataset),\n",
    "                100. * batch_idx / len(train_loader), loss.item()))\n",
    "\n",
    "    for module in model.modules():\n",
    "        if isinstance(module, BatchNormFlow):\n",
    "            module.momentum = 0\n",
    "\n",
    "    with torch.no_grad():\n",
    "        model(train_loader.dataset.tensors[0].to(data.device))\n",
    "\n",
    "    for module in model.modules():\n",
    "        if isinstance(module, BatchNormFlow):\n",
    "            module.momentum = 1\n",
    "            \n",
    "    return loss\n",
    "\n",
    "\n",
    "def validate(epoch, model, loader, prefix='Validation'):\n",
    "    model.eval()\n",
    "    val_loss = 0\n",
    "\n",
    "    for data in loader:\n",
    "        if isinstance(data, list):\n",
    "            data = data[0]\n",
    "        #data = data.to(device)\n",
    "        with torch.no_grad():\n",
    "            u, log_jacob = model(data)\n",
    "            val_loss += flow_loss(u, log_jacob, size_average=False).item()  # sum up batch loss\n",
    "\n",
    "    val_loss /= len(loader.dataset)\n",
    "    if epoch % log_interval == 0:\n",
    "        print('\\n{} set: Average loss: {:.4f}\\n'.format(prefix, val_loss))\n",
    "\n",
    "    return val_loss"
   ]
  },
  {
   "cell_type": "code",
   "execution_count": 28,
   "metadata": {},
   "outputs": [
    {
     "name": "stdout",
     "output_type": "stream",
     "text": [
      "Train Epoch: 0 [0/132 (0%)]\tLoss: 2.923801\n",
      "\n",
      "Validation set: Average loss: 2.4616\n",
      "\n",
      "Train Epoch: 100 [0/132 (0%)]\tLoss: 2.697189\n",
      "\n",
      "Validation set: Average loss: 2.3108\n",
      "\n",
      "Train Epoch: 200 [0/132 (0%)]\tLoss: 2.616520\n",
      "\n",
      "Validation set: Average loss: 2.2901\n",
      "\n",
      "Train Epoch: 300 [0/132 (0%)]\tLoss: 2.582594\n",
      "\n",
      "Validation set: Average loss: 2.2801\n",
      "\n",
      "Train Epoch: 400 [0/132 (0%)]\tLoss: 2.526816\n",
      "\n",
      "Validation set: Average loss: 2.2278\n",
      "\n",
      "Train Epoch: 500 [0/132 (0%)]\tLoss: 2.394381\n",
      "\n",
      "Validation set: Average loss: 2.1021\n",
      "\n",
      "Train Epoch: 600 [0/132 (0%)]\tLoss: 2.340443\n",
      "\n",
      "Validation set: Average loss: 2.0937\n",
      "\n",
      "Train Epoch: 700 [0/132 (0%)]\tLoss: 2.302674\n",
      "\n",
      "Validation set: Average loss: 2.0929\n",
      "\n",
      "Train Epoch: 800 [0/132 (0%)]\tLoss: 2.280540\n",
      "\n",
      "Validation set: Average loss: 2.0972\n",
      "\n",
      "Train Epoch: 900 [0/132 (0%)]\tLoss: 2.261181\n",
      "\n",
      "Validation set: Average loss: 2.0995\n",
      "\n",
      "Train Epoch: 1000 [0/132 (0%)]\tLoss: 2.237773\n",
      "\n",
      "Validation set: Average loss: 2.1068\n",
      "\n",
      "Train Epoch: 1100 [0/132 (0%)]\tLoss: 2.233154\n",
      "\n",
      "Validation set: Average loss: 2.1118\n",
      "\n",
      "Train Epoch: 1200 [0/132 (0%)]\tLoss: 2.228484\n",
      "\n",
      "Validation set: Average loss: 2.1166\n",
      "\n",
      "Train Epoch: 1300 [0/132 (0%)]\tLoss: 2.223485\n",
      "\n",
      "Validation set: Average loss: 2.1206\n",
      "\n",
      "Train Epoch: 1400 [0/132 (0%)]\tLoss: 2.217877\n",
      "\n",
      "Validation set: Average loss: 2.1257\n",
      "\n",
      "Train Epoch: 1500 [0/132 (0%)]\tLoss: 2.211057\n",
      "\n",
      "Validation set: Average loss: 2.1319\n",
      "\n",
      "Train Epoch: 1600 [0/132 (0%)]\tLoss: 2.203235\n",
      "\n",
      "Validation set: Average loss: 2.1365\n",
      "\n",
      "Train Epoch: 1700 [0/132 (0%)]\tLoss: 2.194561\n",
      "\n",
      "Validation set: Average loss: 2.1444\n",
      "\n",
      "Train Epoch: 1800 [0/132 (0%)]\tLoss: 2.187306\n",
      "\n",
      "Validation set: Average loss: 2.1487\n",
      "\n",
      "Train Epoch: 1900 [0/132 (0%)]\tLoss: 2.181113\n",
      "\n",
      "Validation set: Average loss: 2.1509\n",
      "\n",
      "Train Epoch: 2000 [0/132 (0%)]\tLoss: 2.175164\n",
      "\n",
      "Validation set: Average loss: 2.1538\n",
      "\n",
      "Train Epoch: 2100 [0/132 (0%)]\tLoss: 2.169395\n",
      "\n",
      "Validation set: Average loss: 2.1572\n",
      "\n",
      "Train Epoch: 2200 [0/132 (0%)]\tLoss: 2.163005\n",
      "\n",
      "Validation set: Average loss: 2.1627\n",
      "\n",
      "Train Epoch: 2300 [0/132 (0%)]\tLoss: 2.157065\n",
      "\n",
      "Validation set: Average loss: 2.1644\n",
      "\n",
      "Train Epoch: 2400 [0/132 (0%)]\tLoss: 2.151774\n",
      "\n",
      "Validation set: Average loss: 2.1640\n",
      "\n",
      "Train Epoch: 2500 [0/132 (0%)]\tLoss: 2.147549\n",
      "\n",
      "Validation set: Average loss: 2.1631\n",
      "\n",
      "Train Epoch: 2600 [0/132 (0%)]\tLoss: 2.143318\n",
      "\n",
      "Validation set: Average loss: 2.1624\n",
      "\n",
      "Train Epoch: 2700 [0/132 (0%)]\tLoss: 2.139570\n",
      "\n",
      "Validation set: Average loss: 2.1611\n",
      "\n",
      "Train Epoch: 2800 [0/132 (0%)]\tLoss: 2.135916\n",
      "\n",
      "Validation set: Average loss: 2.1593\n",
      "\n",
      "Train Epoch: 2900 [0/132 (0%)]\tLoss: 2.132150\n",
      "\n",
      "Validation set: Average loss: 2.1579\n",
      "\n",
      "Best validation at epoch 670: Average loss: 2.0905\n",
      "\n"
     ]
    }
   ],
   "source": [
    "best_validation_loss = float('inf')\n",
    "best_validation_epoch = 0\n",
    "best_model = model\n",
    "\n",
    "train_loss = []\n",
    "val_loss = []\n",
    "for epoch in range(epochs):\n",
    "\n",
    "    train_loss.append(train(epoch))\n",
    "    validation_loss = validate(epoch, model, valid_loader)\n",
    "    val_loss.append(validation_loss)\n",
    "    \n",
    "    # Learning rate schedule\n",
    "    if epoch==1000:\n",
    "        optimizer = optim.Adam(model.parameters(), lr=lr/5, weight_decay=1e-6)\n",
    "\n",
    "    #if epoch - best_validation_epoch >= 30:\n",
    "    #    break\n",
    "\n",
    "    if validation_loss < best_validation_loss:\n",
    "        best_validation_epoch = epoch\n",
    "        best_validation_loss = validation_loss\n",
    "        #best_model = copy.deepcopy(model)\n",
    "\n",
    "print('Best validation at epoch {}: Average loss: {:.4f}\\n'.format(best_validation_epoch, best_validation_loss))"
   ]
  },
  {
   "cell_type": "code",
   "execution_count": 29,
   "metadata": {},
   "outputs": [
    {
     "data": {
      "text/plain": [
       "1027.93421875"
      ]
     },
     "execution_count": 29,
     "metadata": {},
     "output_type": "execute_result"
    }
   ],
   "source": [
    "validate(best_validation_epoch, model, test_loader, prefix='Test')"
   ]
  },
  {
   "cell_type": "code",
   "execution_count": 30,
   "metadata": {},
   "outputs": [
    {
     "data": {
      "text/plain": [
       "[<matplotlib.lines.Line2D at 0x7fc952cf8a90>]"
      ]
     },
     "execution_count": 30,
     "metadata": {},
     "output_type": "execute_result"
    },
    {
     "data": {
      "image/png": "[encoded data removed]",
      "text/plain": [
       "<Figure size 432x288 with 1 Axes>"
      ]
     },
     "metadata": {
      "needs_background": "light"
     },
     "output_type": "display_data"
    }
   ],
   "source": [
    "plt.plot(range(len(train_loss)), train_loss)"
   ]
  },
  {
   "cell_type": "code",
   "execution_count": 31,
   "metadata": {},
   "outputs": [
    {
     "data": {
      "text/plain": [
       "[<matplotlib.lines.Line2D at 0x7fc952cdab70>]"
      ]
     },
     "execution_count": 31,
     "metadata": {},
     "output_type": "execute_result"
    },
    {
     "data": {
      "image/png": "[encoded data removed]",
      "text/plain": [
       "<Figure size 432x288 with 1 Axes>"
      ]
     },
     "metadata": {
      "needs_background": "light"
     },
     "output_type": "display_data"
    }
   ],
   "source": [
    "plt.plot(range(len(val_loss)), val_loss)"
   ]
  },
  {
   "cell_type": "code",
   "execution_count": null,
   "metadata": {},
   "outputs": [],
   "source": [
    "# SMALL DATASET\n",
    "# blocks:2, hidden:32, lr:1e-4, batch: 20\n",
    "# Best validation at epoch 1051: Average loss: 2.3087\n",
    "# Test val: 2.933855667114258\n",
    "\n",
    "##### 3 blocks\n",
    "# blocks:3, hidden:16, lr:1e-4, batch: 20\n",
    "# Best validation at epoch 161: Average loss: 2.6720\n",
    "# Test val: 3.0800845336914064\n",
    "\n",
    "*****************************************************\n",
    "# blocks:3, hidden:32, lr:1e-4, batch: 100\n",
    "# Best validation at epoch 980: Average loss: 2.3463\n",
    "# 2.534503664289202\n",
    "*****************************************************\n",
    "\n",
    "# blocks:3, hidden:64, lr:1e-4, batch: 20\n",
    "# Best validation at epoch 127: Average loss: 2.6778\n",
    "# Test val: 3.09565185546875\n",
    "\n",
    "##### 4 blocks\n",
    "# blocks:4, hidden:32, lr:1e-4, batch: 20\n",
    "# Best validation at epoch 128: Average loss: 2.7206\n",
    "# Test val: 2.9415998458862305\n",
    "\n",
    "##### 5 blocks\n",
    "# blocks:5, hidden:32, lr:1e-4, batch: 20\n",
    "# Best validation at epoch 1087: Average loss: 2.2731\n",
    "# Test val: 3.6483302307128906"
   ]
  },
  {
   "cell_type": "code",
   "execution_count": null,
   "metadata": {},
   "outputs": [],
   "source": [
    "# MASSIVE DATASET\n",
    "# blocks:2, hidden:32, lr:1e-4, batch: 20\n",
    "# Best validation at epoch 1051: Average loss: 2.3087\n",
    "# Test val: 2.933855667114258\n",
    "\n",
    "##### 3 blocks\n",
    "# blocks:3, hidden:16, lr:1e-4, batch: 20\n",
    "# Best validation at epoch 161: Average loss: 2.6720\n",
    "# Test val: 3.0800845336914064\n",
    "\n",
    "*****************************************************\n",
    "# blocks:3, hidden:32, lr:1e-4, batch: 20\n",
    "# Best validation at epoch 2882: Average loss: 2.1636\n",
    "# Test val: 2.8273855590820314\n",
    "*****************************************************\n",
    "\n",
    "# blocks:3, hidden:64, lr:1e-4, batch: 20\n",
    "# Best validation at epoch 1986: Average loss: 2.3757\n",
    "# Test val: 2.53014646257673\n",
    "\n",
    "##### 4 blocks\n",
    "# blocks:4, hidden:32, lr:1e-4, batch: 20\n",
    "# Best validation at epoch 128: Average loss: 2.7206\n",
    "# Test val: 2.9415998458862305\n",
    "\n",
    "##### 5 blocks\n",
    "# blocks:5, hidden:32, lr:1e-4, batch: 100\n",
    "# Best validation at epoch 913: Average loss: 2.2788\n",
    "# Test val: 2.3675338200160434\n",
    "\n",
    "##### 7 blocks\n",
    "# blocks:5, hidden:32, lr:1e-4, batch: 100\n",
    "# Best validation at epoch 965: Average loss: 2.3375\n",
    "# Test val: 2.490167890276228\n",
    "\n",
    "##### 10 blocks\n",
    "# blocks:5, hidden:32, lr:1e-4, batch: 100\n",
    "# Validation set: Average loss: 2.2701\n",
    "# Test val: 2.4523631504603793"
   ]
  },
  {
   "cell_type": "code",
   "execution_count": 22,
   "metadata": {},
   "outputs": [],
   "source": [
    "def plot_density(model):#, directory):\n",
    "\n",
    "    size = 100\n",
    "    X_LIMS = (-3, 3)\n",
    "    Y_LIMS = (-2.5, 2.5)\n",
    "\n",
    "    x1 = np.linspace(*X_LIMS, size)\n",
    "    x2 = np.linspace(*Y_LIMS, size)\n",
    "    x1, x2 = np.meshgrid(x1, x2)\n",
    "    shape = x1.shape\n",
    "    x1 = x1.ravel()\n",
    "    x2 = x2.ravel()\n",
    "\n",
    "    z_np = np.c_[x1, x2]\n",
    "    z = torch.FloatTensor(z_np)\n",
    "    z = torch.autograd.Variable(z)\n",
    "\n",
    "    u, _ = model(z)\n",
    "    log_probs = (-0.5 * u.pow(2) - 0.5 * np.log(2 * np.pi)).sum(-1, keepdim=True)\n",
    "    log_probs = log_probs.detach().numpy()#.reshape(shape)\n",
    "\n",
    "    z_np = np.c_[z_np, np.exp(log_probs)]\n",
    "\n",
    "    fig, ax = plt.subplots(1, 1, figsize=(10,10))\n",
    "    ax.set_aspect('equal')\n",
    "    #ax.imshow(log_probs, extent=(*X_LIMS, *Y_LIMS), cmap=\"summer\")\n",
    "    ax.tricontourf(z_np[:,0], z_np[:,1], z_np[:,2], cmap=plt.get_cmap('binary'))\n",
    "    ax.scatter(data_train[:,0], data_train[:,1], alpha=1, c='w', s=1)\n",
    "    ax.scatter(data_test[:,0], data_test[:,1], alpha=1, c='r', s=15)\n",
    "    ax.set_title(\"True density\")\n",
    "\n",
    "    #fig.savefig(os.path.join(directory, \"density.png\"))\n",
    "    plt.show()\n",
    "    \n",
    "    return log_probs"
   ]
  },
  {
   "cell_type": "code",
   "execution_count": 32,
   "metadata": {},
   "outputs": [
    {
     "data": {
      "image/png": "[encoded data removed]",
      "text/plain": [
       "<Figure size 720x720 with 1 Axes>"
      ]
     },
     "metadata": {
      "needs_background": "light"
     },
     "output_type": "display_data"
    }
   ],
   "source": [
    "density_vals = plot_density(model=model)"
   ]
  },
  {
   "cell_type": "code",
   "execution_count": null,
   "metadata": {},
   "outputs": [],
   "source": [
    "fig, ax = plt.subplots()\n",
    "ax.set_aspect('equal')\n",
    "\n",
    "distribution = ax.tricontourf(resultadosFinales[:,1], resultadosFinales[:,0], resultadosFinales[:,2], cmap=plt.get_cmap('binary'))\n",
    "#bogota_pequeña.plot(ax=ax, color='none', edgecolor='black')\n",
    "plt.scatter(labeledDatosUnaHora.Longitud, labeledDatosUnaHora.Latitud, alpha=1, s=0.5, color='red') # Prediction points\n",
    "\n",
    "ax.get_xaxis().set_visible(False)\n",
    "ax.get_yaxis().set_visible(False)\n",
    "\n",
    "plt.xlim(-74.22, -74.009)\n",
    "plt.ylim(4.47, 4.835)\n",
    "\n",
    "fig.tight_layout()"
   ]
  },
  {
   "cell_type": "code",
   "execution_count": null,
   "metadata": {},
   "outputs": [],
   "source": [
    "Coordenadas = pd.read_pickle(\"C://Users//USUARIO//Desktop//Sergio//Investigacion//Tesis//Programacion//coords0.p\")\n",
    "Coordenadas = Coordenadas.drop([item for item in list(Coordenadas) if item not in ['lat', 'lon']], axis = 1)\n",
    "Coordenadas.columns = [\"Latitud\", \"Longitud\"]"
   ]
  },
  {
   "cell_type": "code",
   "execution_count": null,
   "metadata": {},
   "outputs": [],
   "source": []
  },
  {
   "cell_type": "code",
   "execution_count": null,
   "metadata": {},
   "outputs": [],
   "source": []
  },
  {
   "cell_type": "code",
   "execution_count": null,
   "metadata": {},
   "outputs": [],
   "source": []
  },
  {
   "cell_type": "code",
   "execution_count": null,
   "metadata": {},
   "outputs": [],
   "source": []
  },
  {
   "cell_type": "code",
   "execution_count": null,
   "metadata": {},
   "outputs": [],
   "source": [
    "# Define the parametrized relu subclass: https://blog.evjang.com/2018/01/nf1.html\n",
    "class PRelu(Transform):\n",
    "    def __init__(self, nvars, alpha=0.5, prior = None, name = \"PRelu\"):\n",
    "        super(PRelu, self).__init__(nvars, prior, name)\n",
    "\n",
    "        self.alpha = alpha\n",
    "\n",
    "    def inverse(self,y):\n",
    "        inverse_Jac = torch.ones(y.shape[0])\n",
    "        inverse_Jac = torch.where(torch.ge(y, 0), (1/torch.abs(self.scale)), (1 /(self.alpha*torch.abs(self.scale)))) \n",
    "        inverse_Log_Jac = torch.log(inverse_Jac+eps)\n",
    "        y = torch.where(torch.ge(y, 0), y, (1 / self.alpha)*y)\n",
    "        return y, inverse_Log_Jac\n",
    "\n",
    "    def forward(self,z):\n",
    "        z = self.scale*z + self.bias\n",
    "        forward_Jac = torch.ones(z.shape[0])\n",
    "        forward_Jac = torch.where(torch.ge(z, 0), torch.abs(self.scale), torch.tensor(self.alpha))\n",
    "        forward_Log_Jac = torch.log(forward_Jac+eps)\n",
    "        z = torch.where(torch.ge(z, 0), z, self.alpha*z) # Forward pass\n",
    "        return z, forward_Log_Jac"
   ]
  },
  {
   "cell_type": "code",
   "execution_count": null,
   "metadata": {},
   "outputs": [],
   "source": [
    "##### Alternative dataset loading"
   ]
  },
  {
   "cell_type": "code",
   "execution_count": null,
   "metadata": {},
   "outputs": [],
   "source": [
    "train_set = train_set.set_index('complete_date')\n",
    "train_set.longitud.resample('M').mean()"
   ]
  },
  {
   "cell_type": "code",
   "execution_count": null,
   "metadata": {},
   "outputs": [],
   "source": [
    "import matplotlib.colors as colors\n",
    "import matplotlib.cm as cmx\n",
    "\n",
    "# Get unique names of species\n",
    "uniq = list(set(train_set['month']))\n",
    "\n",
    "# Set the color map to match the number of species\n",
    "z = range(1,len(uniq))\n",
    "hot = plt.get_cmap('hot')\n",
    "cNorm  = colors.Normalize(vmin=0, vmax=len(uniq))\n",
    "scalarMap = cmx.ScalarMappable(norm=cNorm, cmap=hot)\n",
    "\n",
    "# Plot each month\n",
    "for i in range(len(uniq)):\n",
    "    indx = train_set['month'] == uniq[i]\n",
    "    plt.figure()\n",
    "    plt.scatter(train_set.latitud[indx], train_set.longitud[indx], s=15, color=scalarMap.to_rgba(i), label=uniq[i])\n",
    "    plt.legend(loc='best')\n",
    "    plt.xlim(4.48, 4.81)\n",
    "    plt.ylim(-74.2, -74.01)\n",
    "    plt.show()\n",
    "\n",
    "train_set.plot.scatter(x='latitud', y='longitud', c='month')"
   ]
  },
  {
   "cell_type": "code",
   "execution_count": null,
   "metadata": {},
   "outputs": [],
   "source": [
    "# Basic data loading, if npy file exists, use it, otherwise load the txt and create the npy\n",
    "if os.path.isfile('./data/CrimenBogota.npy'):\n",
    "    crimen = np.load('./data/CrimenBogota.npy')\n",
    "else: \n",
    "    crimen = pd.read_csv('./data/CrimenBogota.txt', sep=' ')\n",
    "    crimen = np.asarray(crimen)\n",
    "    np.save('./data/CrimenBogota.npy', crimen)\n",
    "# ['Latitud', 'Longitud', 'Hora', 'Minuto', 'Segundo', 'Dia', 'Mes', 'Año', 'DiaSemana', 'Tipo'] these are the column names "
   ]
  }
 ],
 "metadata": {
  "kernelspec": {
   "display_name": "Python 3",
   "language": "python",
   "name": "python3"
  },
  "language_info": {
   "codemirror_mode": {
    "name": "ipython",
    "version": 3
   },
   "file_extension": ".py",
   "mimetype": "text/x-python",
   "name": "python",
   "nbconvert_exporter": "python",
   "pygments_lexer": "ipython3",
   "version": "3.6.5"
  }
 },
 "nbformat": 4,
 "nbformat_minor": 2
}
